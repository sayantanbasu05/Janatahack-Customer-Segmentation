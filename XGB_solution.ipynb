{
  "nbformat": 4,
  "nbformat_minor": 0,
  "metadata": {
    "colab": {
      "name": "XGB_solution.ipynb",
      "provenance": [],
      "collapsed_sections": []
    },
    "kernelspec": {
      "name": "python3",
      "display_name": "Python 3"
    }
  },
  "cells": [
    {
      "cell_type": "code",
      "metadata": {
        "id": "98TprAszm2CR",
        "colab_type": "code",
        "colab": {
          "base_uri": "https://localhost:8080/",
          "height": 275
        },
        "outputId": "fde04490-32e1-4e9d-c236-31e935bba190"
      },
      "source": [
        "pip install catboost"
      ],
      "execution_count": 460,
      "outputs": [
        {
          "output_type": "stream",
          "text": [
            "Requirement already satisfied: catboost in /usr/local/lib/python3.6/dist-packages (0.23.2)\n",
            "Requirement already satisfied: pandas>=0.24.0 in /usr/local/lib/python3.6/dist-packages (from catboost) (1.0.5)\n",
            "Requirement already satisfied: plotly in /usr/local/lib/python3.6/dist-packages (from catboost) (4.4.1)\n",
            "Requirement already satisfied: six in /usr/local/lib/python3.6/dist-packages (from catboost) (1.15.0)\n",
            "Requirement already satisfied: graphviz in /usr/local/lib/python3.6/dist-packages (from catboost) (0.10.1)\n",
            "Requirement already satisfied: numpy>=1.16.0 in /usr/local/lib/python3.6/dist-packages (from catboost) (1.18.5)\n",
            "Requirement already satisfied: matplotlib in /usr/local/lib/python3.6/dist-packages (from catboost) (3.2.2)\n",
            "Requirement already satisfied: scipy in /usr/local/lib/python3.6/dist-packages (from catboost) (1.4.1)\n",
            "Requirement already satisfied: python-dateutil>=2.6.1 in /usr/local/lib/python3.6/dist-packages (from pandas>=0.24.0->catboost) (2.8.1)\n",
            "Requirement already satisfied: pytz>=2017.2 in /usr/local/lib/python3.6/dist-packages (from pandas>=0.24.0->catboost) (2018.9)\n",
            "Requirement already satisfied: retrying>=1.3.3 in /usr/local/lib/python3.6/dist-packages (from plotly->catboost) (1.3.3)\n",
            "Requirement already satisfied: pyparsing!=2.0.4,!=2.1.2,!=2.1.6,>=2.0.1 in /usr/local/lib/python3.6/dist-packages (from matplotlib->catboost) (2.4.7)\n",
            "Requirement already satisfied: cycler>=0.10 in /usr/local/lib/python3.6/dist-packages (from matplotlib->catboost) (0.10.0)\n",
            "Requirement already satisfied: kiwisolver>=1.0.1 in /usr/local/lib/python3.6/dist-packages (from matplotlib->catboost) (1.2.0)\n"
          ],
          "name": "stdout"
        }
      ]
    },
    {
      "cell_type": "code",
      "metadata": {
        "id": "FTBrTxEZwb31",
        "colab_type": "code",
        "colab": {}
      },
      "source": [
        "from xgboost import XGBClassifier\n",
        "from sklearn.model_selection import train_test_split\n",
        "from sklearn import preprocessing\n",
        "from sklearn.model_selection import train_test_split, KFold, StratifiedKFold\n",
        "from sklearn.metrics import accuracy_score\n",
        "from sklearn.ensemble import RandomForestClassifier\n",
        "from sklearn.linear_model import LogisticRegression\n",
        "from lightgbm import LGBMClassifier\n",
        "from catboost import CatBoostClassifier\n",
        "from sklearn.svm import LinearSVC\n",
        "from sklearn.linear_model import LogisticRegression\n",
        "import numpy as np \n",
        "from sklearn.neighbors import KNeighborsClassifier"
      ],
      "execution_count": 479,
      "outputs": []
    },
    {
      "cell_type": "code",
      "metadata": {
        "id": "wIR4auRynIOe",
        "colab_type": "code",
        "colab": {}
      },
      "source": [
        "import pandas as pd\n",
        "df_train = pd.read_csv('Train.csv')\n",
        "df_test = pd.read_csv('Test.csv')"
      ],
      "execution_count": 462,
      "outputs": []
    },
    {
      "cell_type": "code",
      "metadata": {
        "id": "sMZCg4SKnTHV",
        "colab_type": "code",
        "colab": {}
      },
      "source": [
        "import pandas as pd\n",
        "df_new_train = pd.read_csv('New_train.csv')\n",
        "df_new_test = pd.read_csv('New_test.csv')"
      ],
      "execution_count": 463,
      "outputs": []
    },
    {
      "cell_type": "code",
      "metadata": {
        "id": "rJ6_cyaxnUCD",
        "colab_type": "code",
        "colab": {}
      },
      "source": [
        "test_id = df_new_test.ID.values\n",
        "original_test_id = df_test['ID'].values"
      ],
      "execution_count": 464,
      "outputs": []
    },
    {
      "cell_type": "code",
      "metadata": {
        "id": "hNUW3JvrnXCv",
        "colab_type": "code",
        "colab": {}
      },
      "source": [
        "map_married = {'Yes':0, 'No':1}\n",
        "map_Gender = {'Male':0, 'Female':1}\n",
        "map_spending = {'Low':0, 'Average':0.33, 'High':0.66}\n",
        "df_new_train.Gender = df_new_train.Gender.map(map_Gender)\n",
        "df_new_train.Ever_Married = df_new_train.Ever_Married.map(map_married)\n",
        "df_new_train.Graduated = df_new_train.Graduated.map(map_married)\n",
        "df_new_train.Spending_Score = df_new_train.Spending_Score.map(map_spending)\n",
        "\n",
        "df_new_test.Gender = df_new_test.Gender.map(map_Gender)\n",
        "df_new_test.Ever_Married = df_new_test.Ever_Married.map(map_married)\n",
        "df_new_test.Graduated = df_new_test.Graduated.map(map_married)\n",
        "df_new_test.Spending_Score = df_new_test.Spending_Score.map(map_spending)"
      ],
      "execution_count": 465,
      "outputs": []
    },
    {
      "cell_type": "code",
      "metadata": {
        "id": "-PTE1bSVnZJD",
        "colab_type": "code",
        "colab": {}
      },
      "source": [
        "\n",
        "df_new_train['CAT_fam_size'] = df_new_train['Var_1'].astype(str) + \"_\" + df_new_train['Family_Size'].astype(str)\n",
        "df_new_train['CAT_spend'] = df_new_train['Var_1'].astype(str) + \"_\" + df_new_train['Spending_Score'].astype(str)\n",
        "df_new_train['Profession_spend'] = df_new_train['Profession'].astype(str) + \"_\" + df_new_train['Spending_Score'].astype(str)\n",
        "\n",
        "#test\n",
        "df_new_test['CAT_fam_size'] = df_new_test['Var_1'].astype(str) + \"_\" + df_new_test['Family_Size'].astype(str)\n",
        "df_new_test['CAT_spend'] = df_new_test['Var_1'].astype(str) + \"_\" + df_new_test['Spending_Score'].astype(str)\n",
        "df_new_test['Profession_spend'] = df_new_test['Profession'].astype(str) + \"_\" + df_new_test['Spending_Score'].astype(str)"
      ],
      "execution_count": 466,
      "outputs": []
    },
    {
      "cell_type": "code",
      "metadata": {
        "id": "A2O4RlfcNY0a",
        "colab_type": "code",
        "colab": {}
      },
      "source": [
        "le = preprocessing.LabelEncoder()\n",
        "df_new_train[\"CAT_fam_size\"] = le.fit_transform(df_new_train[\"CAT_fam_size\"])\n",
        "df_new_train[\"CAT_spend\"] = le.fit_transform(df_new_train[\"CAT_spend\"])\n",
        "df_new_train[\"Profession_spend\"] = le.fit_transform(df_new_train[\"Profession_spend\"])\n",
        "\n",
        "#test\n",
        "df_new_test[\"CAT_fam_size\"] = le.fit_transform(df_new_test[\"CAT_fam_size\"])\n",
        "df_new_test[\"CAT_spend\"] = le.fit_transform(df_new_test[\"CAT_spend\"])\n",
        "df_new_test[\"Profession_spend\"] = le.fit_transform(df_new_test[\"Profession_spend\"])"
      ],
      "execution_count": 467,
      "outputs": []
    },
    {
      "cell_type": "code",
      "metadata": {
        "id": "RzOQbI2pne0p",
        "colab_type": "code",
        "colab": {}
      },
      "source": [
        "df_new_train.drop(['ID' , 'Unnamed: 0'], axis=1, inplace=True)\n",
        "df_new_test.drop(['ID', 'Segmentation', 'Unnamed: 0'], axis=1, inplace=True)"
      ],
      "execution_count": 468,
      "outputs": []
    },
    {
      "cell_type": "code",
      "metadata": {
        "id": "3iKwhhUXEZRs",
        "colab_type": "code",
        "colab": {}
      },
      "source": [
        "map_prof = {'Entertainment':0 ,'Artist':1, 'Homemaker':2, 'Healthcare':3, 'Lawyer':4, 'Doctor':5, 'Engineer':6, 'Executive':7, 'Marketing':8}\n",
        "map_var = {'Cat_1':0 ,'Cat_2':1, 'Cat_3':2, 'Cat_4':3, 'Cat_5':4, 'Cat_6':5, 'Cat_7':6}\n",
        "\n",
        "df_new_train.Profession = df_new_train.Profession.map(map_prof)\n",
        "df_new_train.Var_1 = df_new_train.Var_1.map(map_var)\n",
        "\n",
        "#test\n",
        "df_new_test.Profession = df_new_test.Profession.map(map_prof)\n",
        "df_new_test.Var_1 = df_new_test.Var_1.map(map_var)"
      ],
      "execution_count": 469,
      "outputs": []
    },
    {
      "cell_type": "code",
      "metadata": {
        "id": "hDaFjWxXnff4",
        "colab_type": "code",
        "colab": {}
      },
      "source": [
        "\n",
        "X_train, Y = df_new_train.drop(['CAT_fam_size','Segmentation', 'Var_1'], axis=1).values, df_new_train[\"Segmentation\"].values\n",
        "X_test = df_new_test.drop(['CAT_fam_size', 'Var_1'], axis=1).values\n"
      ],
      "execution_count": 470,
      "outputs": []
    },
    {
      "cell_type": "code",
      "metadata": {
        "id": "kjo51mcrnjP-",
        "colab_type": "code",
        "colab": {
          "base_uri": "https://localhost:8080/",
          "height": 119
        },
        "outputId": "e6982c9e-4347-4232-9f60-2f3755aabd88"
      },
      "source": [
        " \n",
        "kfold, scores = KFold(n_splits=5, shuffle=True, random_state=0), list()\n",
        "for training, testing in kfold.split(X_train):\n",
        "    x_train, x_test = X_train[training], X_train[testing]\n",
        "    y_train, y_test = Y[training], Y[testing]\n",
        "\n",
        "  \n",
        "\n",
        "    xgb = XGBClassifier(random_state=11, verbose=500, max_depth = 3, subsample = 0.5)\n",
        "    xgb.fit(x_train, y_train)\n",
        "    preds = xgb.predict(x_test)\n",
        "\n",
        "    score = accuracy_score(y_test, preds)\n",
        "    scores.append(score)\n",
        "    print(score)\n",
        "    #break\n",
        "print(\"Average: \", sum(scores)/len(scores))\n",
        "#0.5410244827689521"
      ],
      "execution_count": 472,
      "outputs": [
        {
          "output_type": "stream",
          "text": [
            "0.557001239157373\n",
            "0.5489467162329615\n",
            "0.5315985130111525\n",
            "0.5523868567885927\n",
            "0.5151890886546807\n",
            "Average:  0.5410244827689521\n"
          ],
          "name": "stdout"
        }
      ]
    },
    {
      "cell_type": "code",
      "metadata": {
        "id": "Q9YiBJRoJ725",
        "colab_type": "code",
        "colab": {
          "base_uri": "https://localhost:8080/",
          "height": 609
        },
        "outputId": "6aa98eae-8805-480f-d655-d3af47134f81"
      },
      "source": [
        "feat_imp = pd.Series(model.feature_importances_, index=df_new_train.drop(['Var_1',\"Segmentation\"], axis=1).columns)\n",
        "feat_imp.nlargest(30).plot(kind='barh', figsize=(8,10))\n"
      ],
      "execution_count": 474,
      "outputs": [
        {
          "output_type": "execute_result",
          "data": {
            "text/plain": [
              "<matplotlib.axes._subplots.AxesSubplot at 0x7f57217f80b8>"
            ]
          },
          "metadata": {
            "tags": []
          },
          "execution_count": 474
        },
        {
          "output_type": "display_data",
          "data": {
            "image/png": "[encoded data removed]",
            "text/plain": [
              "<Figure size 576x720 with 1 Axes>"
            ]
          },
          "metadata": {
            "tags": [],
            "needs_background": "light"
          }
        }
      ]
    },
    {
      "cell_type": "code",
      "metadata": {
        "id": "hbuVIyYRnlw7",
        "colab_type": "code",
        "colab": {}
      },
      "source": [
        "model = XGBClassifier(random_state=11, verbose=500, max_depth = 3, subsample = 0.5)\n",
        "#model = CatBoostClassifier(random_state=27,  n_estimators=20, max_depth=4)\n",
        "model.fit(X_train, Y)\n",
        "preds = (model.predict(X_test))"
      ],
      "execution_count": 475,
      "outputs": []
    },
    {
      "cell_type": "code",
      "metadata": {
        "id": "s1x0WAoqno2h",
        "colab_type": "code",
        "colab": {}
      },
      "source": [
        "map_id = {}\n",
        "for i in range(len(test_id)):\n",
        "  map_id[test_id[i]] = preds[i]\n",
        "\n",
        "df_submit = pd.DataFrame({'ID': original_test_id, 'Segmentation': original_test_id})\n",
        "df_submit.Segmentation = df_submit.Segmentation.map(map_id)\n",
        "df_submit.to_csv('base.csv', index=False)"
      ],
      "execution_count": 476,
      "outputs": []
    },
    {
      "cell_type": "markdown",
      "metadata": {
        "id": "nDcgYHLfv1ut",
        "colab_type": "text"
      },
      "source": [
        "Post processing( replacing common test ids with train id labels)"
      ]
    },
    {
      "cell_type": "code",
      "metadata": {
        "id": "f5jhfyNBnrAr",
        "colab_type": "code",
        "colab": {}
      },
      "source": [
        "id = df_train['ID'].values\n",
        "val = df_train['Segmentation'].values\n",
        "age = df_test['Age'].values\n",
        "prof = df_test['Profession'].values\n",
        "var_1 = df_test['Var_1'].values\n",
        "count = 0\n",
        "map = {}\n",
        "for i in range(len(id)):\n",
        "  map[id[i]] = val[i]\n",
        "\n",
        "test_id = df_test['ID'].values\n",
        "res = []\n",
        "\n",
        "for i in range(len(test_id)):\n",
        "  if (age[i]<25 and prof[i]=='Healthcare') or (prof[i]==-1 and age[i]<=25):\n",
        "    res.append('D')\n",
        "  elif test_id[i] in map:\n",
        "    res.append(map[test_id[i]])\n",
        "  elif (var_1[i]=='Cat_2' and (age[i]==19 or age[i]==23) ) or (var_1[i]=='Cat_3' and (age[i]==21)) or (var_1[i]=='Cat_4' and (age[i]==18 or age[i]==20)):\n",
        "    res.append('D')\n",
        "  else:\n",
        "    #print(test_id[i])\n",
        "    res.append(map_id[test_id[i]])\n",
        "    count += 1\n",
        "\n",
        "df_submit = pd.DataFrame({'ID': original_test_id})\n",
        "df_submit['Segmentation'] = res\n",
        "df_submit.to_csv('base.csv', index=False)\n"
      ],
      "execution_count": 478,
      "outputs": []
    },
    {
      "cell_type": "code",
      "metadata": {
        "id": "I1e8qL87vyX0",
        "colab_type": "code",
        "colab": {}
      },
      "source": [
        ""
      ],
      "execution_count": null,
      "outputs": []
    }
  ]
}